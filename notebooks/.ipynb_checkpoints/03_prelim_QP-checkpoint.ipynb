{
 "cells": [
  {
   "cell_type": "markdown",
   "id": "1cf8c497-349d-43e3-819f-effc0d31dabc",
   "metadata": {},
   "source": [
    "# 03: Preliminary Sequential Quadratic Programming \n",
    "Date: 2022-07-19"
   ]
  },
  {
   "cell_type": "code",
   "execution_count": 52,
   "id": "ba783b8d-67e7-4c49-a3b2-dddbe6e7c37c",
   "metadata": {},
   "outputs": [],
   "source": [
    "import cvxopt\n",
    "from cvxopt import matrix\n",
    "from cvxopt import solvers\n",
    "import numpy as np\n",
    "import matplotlib.pyplot as plt\n",
    "import random"
   ]
  },
  {
   "attachments": {
    "4eff849c-6148-437a-bcf6-b2a7aee3e6c7.png": {
     "image/png": "[encoded data removed]"
    }
   },
   "cell_type": "markdown",
   "id": "6dfda43d-a751-4f3e-afaa-8b3ad25e7bc8",
   "metadata": {},
   "source": [
    "Notes and code following the tutorial [here](https://courses.csail.mit.edu/6.867/wiki/images/a/a7/Qp-cvxopt.pdf). \n",
    "\n",
    "### CVXOPT notation: \n",
    "\n",
    "Minimize x: $\\frac{1}{2}x^{T}Px + q^{T}x$\n",
    "\n",
    "Subject to: $ Gx \\leq h $ and $Ax = b$\n",
    "\n",
    "## Example 1 \n",
    "\n",
    "Minimize $x, y$: $\\frac{1}{2}x^2 + 3x + 4y $\n",
    "\n",
    "Subject to: \n",
    "\n",
    "$ x, y \\geq 0$ \n",
    "\n",
    "$x + 3y \\geq 15$\n",
    "\n",
    "$2x + 5y \\leq 100 $\n",
    "\n",
    "$3x + 4y \\leq 80$\n",
    "\n",
    "This is rewritten into the following form: \n",
    "\n",
    "![image.png](attachment:4eff849c-6148-437a-bcf6-b2a7aee3e6c7.png)"
   ]
  },
  {
   "cell_type": "code",
   "execution_count": 13,
   "id": "ccefe1a3-95ab-4733-9db4-014d4deced5e",
   "metadata": {},
   "outputs": [],
   "source": [
    "P = np.array([[1, 0], [0, 0]])\n",
    "q = np.array([[3], [4]])\n",
    "G = np.array([[-1, 0], [0, -1], [-1, -3], [2, 5], [3, 4]])\n",
    "h = np.array([[0, 0, -15, 100, 80]]).T"
   ]
  },
  {
   "cell_type": "code",
   "execution_count": 21,
   "id": "12d17b3c-2a39-45b4-b9fa-e79514e523a6",
   "metadata": {},
   "outputs": [],
   "source": [
    "# convert numpy arrays to matrix \n",
    "# tc = 'd' makes numbers doubles\n",
    "P = matrix(P, tc = 'd')\n",
    "q = matrix(q, tc = 'd')\n",
    "G = matrix(G, tc = 'd')\n",
    "h = matrix(h, tc = 'd')"
   ]
  },
  {
   "cell_type": "code",
   "execution_count": 23,
   "id": "e1cfc430-48d6-4e46-864b-f803c42b3acc",
   "metadata": {},
   "outputs": [
    {
     "name": "stdout",
     "output_type": "stream",
     "text": [
      "     pcost       dcost       gap    pres   dres\n",
      " 0:  1.0780e+02 -7.6366e+02  9e+02  0e+00  4e+01\n",
      " 1:  9.3245e+01  9.7637e+00  8e+01  1e-16  3e+00\n",
      " 2:  6.7311e+01  3.2553e+01  3e+01  1e-16  1e+00\n",
      " 3:  2.6071e+01  1.5068e+01  1e+01  1e-16  7e-01\n",
      " 4:  3.7092e+01  2.3152e+01  1e+01  8e-17  4e-01\n",
      " 5:  2.5352e+01  1.8652e+01  7e+00  6e-17  2e-16\n",
      " 6:  2.0062e+01  1.9974e+01  9e-02  1e-16  0e+00\n",
      " 7:  2.0001e+01  2.0000e+01  9e-04  2e-16  4e-16\n",
      " 8:  2.0000e+01  2.0000e+01  9e-06  3e-16  0e+00\n",
      "Optimal solution found.\n"
     ]
    }
   ],
   "source": [
    "# solve the problem \n",
    "\n",
    "sol = solvers.qp(P, q, G, h)"
   ]
  },
  {
   "cell_type": "code",
   "execution_count": 25,
   "id": "2690d86c-709f-4f1c-8d67-5f66be375051",
   "metadata": {},
   "outputs": [
    {
     "name": "stdout",
     "output_type": "stream",
     "text": [
      "[ 7.13e-07]\n",
      "[ 5.00e+00]\n",
      "\n"
     ]
    }
   ],
   "source": [
    "print(sol['x'])"
   ]
  },
  {
   "cell_type": "code",
   "execution_count": 26,
   "id": "8031f9cd-1e97-4411-9867-872f05715698",
   "metadata": {},
   "outputs": [
    {
     "name": "stdout",
     "output_type": "stream",
     "text": [
      "20.00000617311241\n"
     ]
    }
   ],
   "source": [
    "print(sol['primal objective'])"
   ]
  },
  {
   "cell_type": "code",
   "execution_count": 28,
   "id": "3ac34988-6bce-4341-b7f2-e10c8d939987",
   "metadata": {},
   "outputs": [
    {
     "data": {
      "text/plain": [
       "dict_keys(['x', 'y', 's', 'z', 'status', 'gap', 'relative gap', 'primal objective', 'dual objective', 'primal infeasibility', 'dual infeasibility', 'primal slack', 'dual slack', 'iterations'])"
      ]
     },
     "execution_count": 28,
     "metadata": {},
     "output_type": "execute_result"
    }
   ],
   "source": [
    "sol.keys()"
   ]
  },
  {
   "cell_type": "code",
   "execution_count": 29,
   "id": "1f21bf33-8b2a-41ed-a045-4e4ab2632598",
   "metadata": {},
   "outputs": [
    {
     "data": {
      "text/plain": [
       "8"
      ]
     },
     "execution_count": 29,
     "metadata": {},
     "output_type": "execute_result"
    }
   ],
   "source": [
    "sol['iterations']"
   ]
  },
  {
   "cell_type": "code",
   "execution_count": 31,
   "id": "3131f129-595e-41a3-8c7e-4b02b43330f6",
   "metadata": {},
   "outputs": [
    {
     "data": {
      "text/plain": [
       "3.044181283464691e-16"
      ]
     },
     "execution_count": 31,
     "metadata": {},
     "output_type": "execute_result"
    }
   ],
   "source": [
    "sol['primal infeasibility']"
   ]
  },
  {
   "cell_type": "markdown",
   "id": "0a12157d-5bbe-43a5-98c2-d8a443639c5d",
   "metadata": {},
   "source": [
    "## Playing with Derivates"
   ]
  },
  {
   "cell_type": "code",
   "execution_count": 32,
   "id": "0d8b9fef-5cfc-4564-8b9a-0820cfd27918",
   "metadata": {},
   "outputs": [],
   "source": [
    "D = 10"
   ]
  },
  {
   "cell_type": "code",
   "execution_count": 59,
   "id": "2cdd5559-71d2-4b2d-9daa-97f260fd1f27",
   "metadata": {},
   "outputs": [],
   "source": [
    "# let x be from a normal distribution\n",
    "random.seed(10)\n",
    "x = np.random.normal(8, 3, 100)"
   ]
  },
  {
   "cell_type": "code",
   "execution_count": 60,
   "id": "c9cbb019-acef-44fa-9ff2-ee2e4f7c6327",
   "metadata": {},
   "outputs": [],
   "source": [
    "y = D-x\n",
    "y_max = np.array([max(0, elem) for elem in y])"
   ]
  },
  {
   "cell_type": "code",
   "execution_count": 61,
   "id": "03fee678-b558-444b-8b43-0a5ec5fdca3c",
   "metadata": {},
   "outputs": [
    {
     "data": {
      "text/plain": [
       "<matplotlib.collections.PathCollection at 0x7ff4091b9760>"
      ]
     },
     "execution_count": 61,
     "metadata": {},
     "output_type": "execute_result"
    },
    {
     "data": {
      "image/png": "[encoded data removed]",
      "text/plain": [
       "<Figure size 432x288 with 1 Axes>"
      ]
     },
     "metadata": {
      "needs_background": "light"
     },
     "output_type": "display_data"
    }
   ],
   "source": [
    "%matplotlib inline\n",
    "plt.scatter(x, y_max)"
   ]
  },
  {
   "cell_type": "code",
   "execution_count": 62,
   "id": "1e3f42bd-f123-4281-afba-6ff84c44d03b",
   "metadata": {},
   "outputs": [
    {
     "data": {
      "text/plain": [
       "array([14.85690357, 13.89377534,  4.30642259,  3.84728971, 11.8101428 ,\n",
       "        9.26981579, 10.01734776,  8.1394398 ,  5.80154516,  4.60249762,\n",
       "        5.46839172,  4.62031447,  7.16898576,  7.38433162, 11.12418823,\n",
       "        9.04899291,  8.873976  ,  9.7108528 ,  9.26901786,  6.63596003,\n",
       "        7.52182003,  9.22121446, 12.18172873,  4.14974756,  1.38912229,\n",
       "        7.68992042,  4.36212155,  7.81360516,  5.38558206,  9.21517543,\n",
       "        5.14558269, 13.119293  ,  9.90976715,  2.90053557, 12.07538072,\n",
       "        6.1919483 ,  5.9122184 ,  5.48846554,  9.22545392, 13.75835963,\n",
       "       11.65579941, 13.12524912,  6.90598473,  1.73500614,  6.69864156,\n",
       "        7.33110024,  4.92027961,  4.62683981, 12.96751627,  7.15073647,\n",
       "        9.25124016,  7.63883692,  3.64077885,  5.23651022,  0.24721756,\n",
       "        6.0901936 ,  2.77902339,  8.90415952,  6.56970071, 10.18887215,\n",
       "       12.75371257,  7.54546284,  6.10282209,  9.18424309,  8.58068983,\n",
       "        6.14737538,  7.48970417,  6.52705944,  3.84150709,  5.7526211 ,\n",
       "        7.23056912,  9.80684583,  7.2860658 ,  9.99140637,  9.21518081,\n",
       "        8.89067801,  3.77751151,  9.5997433 ,  7.9678119 , 12.09604024,\n",
       "       10.26105804,  2.63194855,  5.82455753,  8.32263719,  8.43763848,\n",
       "        9.87075412,  4.81423134,  9.58568228,  6.13275392,  8.50229127,\n",
       "        8.47046291,  5.01544573, 11.52081383, 12.17672401, 13.69638735,\n",
       "        6.93037607, 10.2619694 ,  7.11316121, 13.08453014,  9.72358822])"
      ]
     },
     "execution_count": 62,
     "metadata": {},
     "output_type": "execute_result"
    }
   ],
   "source": [
    "# say x is from normal distribution \n",
    "\n",
    "x"
   ]
  },
  {
   "cell_type": "code",
   "execution_count": null,
   "id": "9e8b3916-cf4a-4e28-9c5e-beca520ab597",
   "metadata": {},
   "outputs": [],
   "source": []
  }
 ],
 "metadata": {
  "kernelspec": {
   "display_name": "e2e-model-learning",
   "language": "python",
   "name": "e2e-model-learning"
  },
  "language_info": {
   "codemirror_mode": {
    "name": "ipython",
    "version": 3
   },
   "file_extension": ".py",
   "mimetype": "text/x-python",
   "name": "python",
   "nbconvert_exporter": "python",
   "pygments_lexer": "ipython3",
   "version": "3.9.12"
  }
 },
 "nbformat": 4,
 "nbformat_minor": 5
}
